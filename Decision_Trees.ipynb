{
 "cells": [
  {
   "cell_type": "markdown",
   "id": "c26ffcaa-df4c-4a66-bb2e-619d214c8d8c",
   "metadata": {},
   "source": [
    "## Lab Exercise Week \\#3: Decision Trees in Machine Learning\n",
    "\n",
    "### Objective:\n",
    "The goal of this lab exercise is to understand Decision Trees and their application in machine learning. You will apply a decition tree classifier to different datasets and plot the resulting trees.\n",
    "\n",
    "### Datasets:\n",
    "For this lab exercise, you'll use the ApplePears, AthleteSelection, Restaurant and Penguins datasets from Brightspace.\n",
    "\n",
    "### Tasks:\n",
    "\n",
    "#### 1). Data Loading and Exploration:\n",
    "<ul>\n",
    "<li>Import all needed libraries.</li>\n",
    "<li>Load the ApplePears dataset.</li>\n",
    "<li>Explore the dataset to understand its structure and features.</li>\n",
    "<li>Select approprate features for a decision tree.</li>\n",
    "</ul>"
   ]
  },
  {
   "cell_type": "code",
   "execution_count": null,
   "id": "173de614-c535-4921-80f0-2365b6ab8a9f",
   "metadata": {},
   "outputs": [],
   "source": []
  },
  {
   "cell_type": "markdown",
   "id": "e9ad93a0-cdec-4c6e-bc3b-c623562fe564",
   "metadata": {},
   "source": [
    "scikit-learn can deal with a category class label but it cannot deal with categorical features.\n",
    "So we drop the Taste feature.\n",
    "\n",
    "See later in the notebook for how to deal with categorical features"
   ]
  },
  {
   "cell_type": "markdown",
   "id": "ecc963be-de19-4054-b967-b0db908f2288",
   "metadata": {},
   "source": [
    "#### 2) Decision Tree for Apples and Pears:\n",
    "<ul>\n",
    "<li>Create a decision tree classifier.</li>\n",
    "<li>Train your model.</li>\n",
    "<li>Predict the outcome.</li>\n",
    "<li>Plot the decision tree model.</li>\n",
    "</ul>"
   ]
  },
  {
   "cell_type": "markdown",
   "id": "163b9e79-c44d-4588-a030-3dbdc8bfef32",
   "metadata": {},
   "source": [
    "Two key methods:\n",
    "1. `fit` method will train the tree from the data.\n",
    "2. `predict` method will produce class predictions for an array of test data. "
   ]
  },
  {
   "cell_type": "code",
   "execution_count": null,
   "id": "29b1bed3-7fdd-408c-8d77-197984c99d1e",
   "metadata": {},
   "outputs": [],
   "source": []
  },
  {
   "cell_type": "markdown",
   "id": "6d738b4b-df1d-42d8-82d6-14293aa02fca",
   "metadata": {},
   "source": [
    "#### 3) Decision Tree for Athletes:\n",
    "<ul>\n",
    "<li>Load the AthleteSelection.csv dataset</li>\n",
    "<li>Create a decision tree classifier.</li>\n",
    "<li>Train your model.</li>\n",
    "<li>Predict the outcome.</li>\n",
    "<li>Plot the decision tree model.</li>\n",
    "</ul>"
   ]
  },
  {
   "cell_type": "code",
   "execution_count": null,
   "id": "dfb700db-f857-4a13-9458-f25d8cca769f",
   "metadata": {},
   "outputs": [],
   "source": []
  },
  {
   "cell_type": "markdown",
   "id": "424a14a6-021d-4f74-933c-50f5aee452c5",
   "metadata": {},
   "source": [
    "Run a test example, select one of the training examples"
   ]
  },
  {
   "cell_type": "code",
   "execution_count": null,
   "id": "60d3c334-867c-465f-bf89-0512d815dca3",
   "metadata": {},
   "outputs": [],
   "source": []
  },
  {
   "cell_type": "markdown",
   "id": "80077279-3f45-4404-9cff-935b4e609f39",
   "metadata": {},
   "source": [
    "#### 4) Decision Tree for Restaurants:\n",
    "<ul>\n",
    "    <li>Import the restaurant.csv dataset</li>\n",
    "    <li>Use one-hot encoding to deal with categorical features.</li>\n",
    "<li>Create a decision tree classifier.</li>\n",
    "<li>Train your model.</li>\n",
    "<li>Plot the decision tree model.</li>\n",
    "</ul>"
   ]
  },
  {
   "cell_type": "code",
   "execution_count": null,
   "id": "42273053-1488-4388-bfc8-24d30f6633fb",
   "metadata": {},
   "outputs": [],
   "source": []
  }
 ],
 "metadata": {
  "kernelspec": {
   "display_name": "Python 3 (ipykernel)",
   "language": "python",
   "name": "python3"
  },
  "language_info": {
   "codemirror_mode": {
    "name": "ipython",
    "version": 3
   },
   "file_extension": ".py",
   "mimetype": "text/x-python",
   "name": "python",
   "nbconvert_exporter": "python",
   "pygments_lexer": "ipython3",
   "version": "3.9.13"
  }
 },
 "nbformat": 4,
 "nbformat_minor": 5
}
